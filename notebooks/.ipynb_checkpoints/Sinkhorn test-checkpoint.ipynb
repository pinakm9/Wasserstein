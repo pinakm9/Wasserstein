{
 "cells": [
  {
   "cell_type": "code",
   "execution_count": 30,
   "id": "realistic-orbit",
   "metadata": {},
   "outputs": [],
   "source": [
    "# add modules to Python's search path\n",
    "import os\n",
    "import sys\n",
    "module_path = os.path.abspath(os.path.join('..'))\n",
    "if module_path not in sys.path:\n",
    "    sys.path.append(module_path)\n",
    "\n",
    "\n",
    "import numpy as np\n",
    "import matplotlib.pyplot as plt\n",
    "from sklearn.neighbors import KernelDensity  # display as density curves\n",
    "\n",
    "import torch\n",
    "from geomloss import SamplesLoss\n",
    "import tensorflow as tf\n",
    "from modules import tf_wasserstein as tfw"
   ]
  },
  {
   "cell_type": "code",
   "execution_count": 45,
   "id": "lyric-navigation",
   "metadata": {},
   "outputs": [
    {
     "name": "stdout",
     "output_type": "stream",
     "text": [
      "samples from distribution #1:\n",
      "tensor([[-0.1216, -0.8382,  0.1725],\n",
      "        [ 0.7638, -1.3258, -1.3509],\n",
      "        [-0.1109, -2.0803, -0.8771]], dtype=torch.float64)\n",
      "samples from distribution #2:\n",
      "tensor([[100.2360,  98.5904, 100.1034],\n",
      "        [ 99.2627, 102.6004,  99.8691],\n",
      "        [102.9425,  98.5901, 100.6022]], dtype=torch.float64)\n"
     ]
    }
   ],
   "source": [
    "use_cuda = torch.cuda.is_available()\n",
    "# N.B.: We use float64 numbers to get nice limits when blur -> +infinity\n",
    "dtype    = torch.cuda.DoubleTensor if use_cuda else torch.DoubleTensor\n",
    "\n",
    "# make a convenient wrapper for producing samples in form of a tensor\n",
    "def torch_sampler(mean, cov, size):\n",
    "    samples = np.random.multivariate_normal(mean, cov, size)\n",
    "    return torch.from_numpy(samples)\n",
    "\n",
    "# set up parameters for our two test distributions\n",
    "dimension = 3\n",
    "mean_1 = np.zeros(dimension)\n",
    "mean_2 = mean_1 + 100.0 * np.ones(dimension)\n",
    "cov_1 = np.identity(dimension)\n",
    "cov_2 = cov_1\n",
    "\n",
    "# finally create the samplers our test distributions\n",
    "sampler_1 = lambda size: torch_sampler(mean_1, cov_1, size)\n",
    "sampler_2 = lambda size: torch_sampler(mean_2, cov_2, size)\n",
    "\n",
    "# test our samplers\n",
    "print(\"samples from distribution #1:\\n{}\".format(sampler_1(3)))\n",
    "print(\"samples from distribution #2:\\n{}\".format(sampler_2(3)))"
   ]
  },
  {
   "cell_type": "code",
   "execution_count": 46,
   "id": "welcome-manitoba",
   "metadata": {},
   "outputs": [
    {
     "name": "stdout",
     "output_type": "stream",
     "text": [
      "122.54486069798962\n"
     ]
    }
   ],
   "source": [
    "num_samples_1 = 100\n",
    "num_samples_2 = 100\n",
    "samples_1 = sampler_1(num_samples_1)\n",
    "samples_2 = sampler_2(num_samples_2)\n",
    "loss = SamplesLoss(\"sinkhorn\", p=2, blur=0.01, scaling=.99, backend=\"online\")\n",
    "print(np.sqrt(loss(samples_1, samples_2).item()))"
   ]
  },
  {
   "cell_type": "code",
   "execution_count": 49,
   "id": "serial-humidity",
   "metadata": {},
   "outputs": [
    {
     "name": "stdout",
     "output_type": "stream",
     "text": [
      "samples from distribution #1:\n",
      "[[-0.8672439  -1.5351243   0.0637885  -0.2652631 ]\n",
      " [ 0.36599773  0.3301862   1.4789115   0.5465439 ]\n",
      " [ 0.18409443  3.2592974   0.869551   -0.11191697]]\n",
      "samples from distribution #2:\n",
      "[[10.203678  11.819411  11.632811  11.406468 ]\n",
      " [10.654344  10.208561  11.368092   7.2492557]\n",
      " [ 9.861263  10.898265   9.832393  10.872247 ]]\n"
     ]
    }
   ],
   "source": [
    "# make a convenient wrapper for producing samples in form of a tensor\n",
    "def tf_sampler(mean, cov, size):\n",
    "    samples = np.random.multivariate_normal(mean, cov, size)\n",
    "    return tf.convert_to_tensor(samples, dtype=tf.float32)\n",
    "\n",
    "# set up parameters for our two test distributions\n",
    "dimension = 4\n",
    "mean_1 = np.zeros(dimension)\n",
    "mean_2 = mean_1 + 10.0 * np.ones(dimension)\n",
    "cov_1 = np.identity(dimension)\n",
    "cov_2 = cov_1\n",
    "\n",
    "# finally create the samplers our test distributions\n",
    "sampler_1 = lambda size: tf_sampler(mean_1, cov_1, size)\n",
    "sampler_2 = lambda size: tf_sampler(mean_2, cov_2, size)\n",
    "\n",
    "# test our samplers\n",
    "print(\"samples from distribution #1:\\n{}\".format(sampler_1(3)))\n",
    "print(\"samples from distribution #2:\\n{}\".format(sampler_2(3)))"
   ]
  },
  {
   "cell_type": "code",
   "execution_count": 58,
   "id": "fitted-possible",
   "metadata": {},
   "outputs": [
    {
     "name": "stdout",
     "output_type": "stream",
     "text": [
      "17.537973\n"
     ]
    }
   ],
   "source": [
    "num_samples_1 = 1000\n",
    "num_samples_2 = 1000\n",
    "samples_1 = sampler_1(num_samples_1)\n",
    "samples_2 = sampler_2(num_samples_2)\n",
    "loss = tfw.sinkhorn_loss(samples_1, samples_2, 0.01, num_samples_1, 50, p=2)\n",
    "print(np.sqrt(loss))"
   ]
  },
  {
   "cell_type": "code",
   "execution_count": null,
   "id": "hawaiian-mexican",
   "metadata": {},
   "outputs": [],
   "source": []
  },
  {
   "cell_type": "code",
   "execution_count": null,
   "id": "informal-plumbing",
   "metadata": {},
   "outputs": [],
   "source": []
  }
 ],
 "metadata": {
  "kernelspec": {
   "display_name": "Python 3",
   "language": "python",
   "name": "python3"
  },
  "language_info": {
   "codemirror_mode": {
    "name": "ipython",
    "version": 3
   },
   "file_extension": ".py",
   "mimetype": "text/x-python",
   "name": "python",
   "nbconvert_exporter": "python",
   "pygments_lexer": "ipython3",
   "version": "3.8.8"
  }
 },
 "nbformat": 4,
 "nbformat_minor": 5
}
