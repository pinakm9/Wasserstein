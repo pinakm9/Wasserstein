{
 "cells": [
  {
   "cell_type": "code",
   "execution_count": 24,
   "id": "spiritual-grill",
   "metadata": {},
   "outputs": [],
   "source": [
    "# add modules to Python's search path\n",
    "import os\n",
    "import sys\n",
    "module_path = os.path.abspath(os.path.join('..'))\n",
    "if module_path not in sys.path:\n",
    "    sys.path.append(module_path)\n",
    "\n",
    "\n",
    "import numpy as np\n",
    "import matplotlib.pyplot as plt\n",
    "\n",
    "#import  torch\n",
    "#from geomloss import SamplesLoss\n",
    "import tensorflow as tf\n",
    "from modules import wasserstein as tfw\n",
    "import tensorflow_probability as tfp\n",
    "import scipy as sp\n",
    "\n",
    "# make a convenient wrapper for producing samples in form of a tensor\n",
    "def tf_sampler(mean, cov, size):\n",
    "    samples = np.random.multivariate_normal(mean, cov, size)\n",
    "    return tf.convert_to_tensor(samples, dtype=tf.float32)\n",
    "\n",
    "# set up parameters for our two test distributions\n",
    "dimension = 2\n",
    "mean_1 = np.zeros(dimension)\n",
    "mean_2 = mean_1 + 100.0 \n",
    "cov_1 = 6.0 * np.identity(dimension)\n",
    "cov_2 = (6.0) * np.identity(dimension)\n",
    "\n",
    "# finally create the samplers our test distributions\n",
    "sampler_1 = lambda size: tf_sampler(mean_1, cov_1, size)\n",
    "sampler_2 = lambda size: tf_sampler(mean_2, cov_2, size)\n",
    "\n",
    "# test our samplers\n",
    "#print(\"samples from distribution #1:\\n{}\".format(sampler_1(3)))\n",
    "#print(\"samples from distribution #2:\\n{}\".format(sampler_2(3)))\n",
    "\n",
    "# Wasserstein_2 formula\n",
    "def w2_formula(ensemble_1, ensemble_2, tf=True):\n",
    "    if tf:\n",
    "        ensemble_1 = ensemble_1.numpy()\n",
    "        ensemble_2 = ensemble_2.numpy()\n",
    "    m1 = np.mean(ensemble_1, axis=0)\n",
    "    m2 = np.mean(ensemble_2, axis=0)\n",
    "    C1 = np.cov(ensemble_1.T)\n",
    "    C2 = np.cov(ensemble_2.T)\n",
    "    r_C2 = sp.linalg.sqrtm(C2)\n",
    "    term_1 = np.linalg.norm(m1 - m2, ord=2)\n",
    "    term_2 = np.trace( C1 + C2 - 2.0 * sp.linalg.sqrtm(np.linalg.multi_dot([r_C2, C1, r_C2])) )\n",
    "    return np.sqrt(term_1**2 + term_2**2)\n",
    "\n",
    "def exact_w2(m1, m2, C1, C2):\n",
    "    term_1 = np.linalg.norm(m1 - m2, ord=2)\n",
    "    r_C2 = sp.linalg.sqrtm(C2)\n",
    "    term_2 = np.trace( C1 + C2 - 2.0 * sp.linalg.sqrtm(np.linalg.multi_dot([r_C2, C1, r_C2])) )\n",
    "    return np.sqrt(term_1**2 + term_2**2)"
   ]
  },
  {
   "cell_type": "code",
   "execution_count": 32,
   "id": "golden-channels",
   "metadata": {},
   "outputs": [
    {
     "name": "stdout",
     "output_type": "stream",
     "text": [
      "Wasserstein_2, computed with formula: 141.4213562373095\n",
      "Wasserstein_2, computed with Sinkhorn algorithm: 140.90249633789062\n"
     ]
    }
   ],
   "source": [
    "num_samples_1 = 200\n",
    "num_samples_2 = 200\n",
    "samples_1 = sampler_1(num_samples_1)\n",
    "samples_2 = sampler_2(num_samples_2)\n",
    "#print(np.mean(samples_1, axis=0))\n",
    "#print(np.mean(samples_2, axis=0))\n",
    "#loss = tfw.sinkhorn_loss(samples_1, samples_1, epsilon=0.01, num_iters=50, p=2)\n",
    "loss_S = tfw.sinkhorn_div_tf(samples_1, samples_2, epsilon=0.01, num_iters=200, p=2)\n",
    "#print(\"Wasserstein_2, computed with Sinkhorn algorithm: {}\".format(np.sqrt(loss)))\n",
    "print(\"Wasserstein_2, computed with formula: {}\".format(exact_w2(mean_1, mean_2, cov_1, cov_2)))\n",
    "print(\"Wasserstein_2, computed with Sinkhorn algorithm: {}\".format(tf.sqrt(loss_S)))"
   ]
  },
  {
   "cell_type": "code",
   "execution_count": 33,
   "id": "running-rapid",
   "metadata": {},
   "outputs": [
    {
     "name": "stdout",
     "output_type": "stream",
     "text": [
      "Working on iteration #99\r"
     ]
    },
    {
     "data": {
      "image/png": "[encoded data removed]",
      "text/plain": [
       "<Figure size 432x288 with 1 Axes>"
      ]
     },
     "metadata": {
      "needs_background": "light"
     },
     "output_type": "display_data"
    }
   ],
   "source": [
    "def generate_sampler(dim=10, mean_a=-100., mean_b=100., cov_a=-1., cov_b=1.):\n",
    "    A = np.random.uniform(cov_a, cov_b, size=(dim, dim))\n",
    "    cov = np.dot(A.T, A)\n",
    "    #print(np.linalg.norm(cov))\n",
    "    mean = np.random.uniform(mean_a, mean_b, size=dim)\n",
    "    return mean, cov, lambda size: tf_sampler(mean, cov, size)\n",
    "\n",
    "\n",
    "num_exps = 100\n",
    "dim = 10\n",
    "num_samples = 100\n",
    "cov_a = -2.\n",
    "cov_b = -cov_a\n",
    "w_s = np.zeros(num_exps)\n",
    "w_f = np.zeros(num_exps)\n",
    "for i in range(num_exps):\n",
    "    print('Working on iteration #{}'.format(i), end='\\r')\n",
    "    mean_1, cov_1, sampler_1 = generate_sampler(dim=dim, cov_a=cov_a, cov_b=cov_b)\n",
    "    mean_2, cov_2, sampler_2 = generate_sampler(dim=dim, cov_a=cov_a, cov_b=cov_b)\n",
    "    samples_1 = sampler_1(num_samples)\n",
    "    samples_2 = sampler_2(num_samples)\n",
    "    w_s[i] = np.sqrt(tfw.sinkhorn_div_tf(samples_1, samples_2, epsilon=0.01, num_iters=50, p=2))\n",
    "    w_f[i] = exact_w2(mean_1, mean_2, cov_1, cov_2) \n",
    "\n",
    "plt.scatter(w_s, w_f)\n",
    "plt.show()"
   ]
  },
  {
   "cell_type": "code",
   "execution_count": 30,
   "id": "psychological-banking",
   "metadata": {},
   "outputs": [
    {
     "name": "stdout",
     "output_type": "stream",
     "text": [
      "Working on iteration #99\n",
      "Number of failures = 0\n"
     ]
    }
   ],
   "source": [
    "# Triangle inequality\n",
    "\n",
    "num_exps = 100\n",
    "dim = 10\n",
    "num_samples = 200\n",
    "tri = np.zeros(num_exps)\n",
    "cov_a = -10.\n",
    "cov_b = -cov_a\n",
    "for i in range(num_exps):\n",
    "    print('Working on iteration #{}'.format(i), end='\\r')\n",
    "    mean_1, cov_1, sampler_1 = generate_sampler(dim=dim, cov_a=cov_a, cov_b=cov_b)\n",
    "    mean_2, cov_2, sampler_2 = generate_sampler(dim=dim, cov_a=cov_a, cov_b=cov_b)\n",
    "    mean_3, cov_3, sampler_3 = generate_sampler(dim=dim, cov_a=cov_a, cov_b=cov_b)\n",
    "    samples_1 = sampler_1(num_samples)\n",
    "    samples_2 = sampler_2(num_samples)\n",
    "    samples_3 = sampler_3(num_samples)\n",
    "    w_12 = np.sqrt(tfw.sinkhorn_loss(samples_1, samples_2, epsilon=0.01, num_iters=50, p=2))\n",
    "    w_23 = np.sqrt(tfw.sinkhorn_loss(samples_2, samples_3, epsilon=0.01, num_iters=50, p=2))\n",
    "    w_13 = np.sqrt(tfw.sinkhorn_loss(samples_1, samples_3, epsilon=0.01, num_iters=50, p=2))\n",
    "    if w_12 + w_23 >= w_13:\n",
    "        tri[i] = 1.0\n",
    "print('\\nNumber of failures = {}'.format(num_exps - int(tri.sum())))"
   ]
  },
  {
   "cell_type": "code",
   "execution_count": 17,
   "id": "developmental-chocolate",
   "metadata": {},
   "outputs": [
    {
     "name": "stdout",
     "output_type": "stream",
     "text": [
      "Working on iteration #99\n",
      "Number of failures = 0\n"
     ]
    }
   ],
   "source": [
    "# Symmetry\n",
    "\n",
    "num_exps = 100\n",
    "dim = 10\n",
    "num_samples = 200\n",
    "sym = np.zeros(num_exps)\n",
    "cov_a = -1.\n",
    "cov_b = -cov_a\n",
    "for i in range(num_exps):\n",
    "    print('Working on iteration #{}'.format(i), end='\\r')\n",
    "    mean_1, cov_1, sampler_1 = generate_sampler(dim=dim, cov_a=cov_a, cov_b=cov_b)\n",
    "    mean_2, cov_2, sampler_2 = generate_sampler(dim=dim, cov_a=cov_a, cov_b=cov_b)\n",
    "    samples_1 = sampler_1(num_samples)\n",
    "    samples_2 = sampler_2(num_samples)\n",
    "    w_12 = np.sqrt(tfw.sinkhorn_div_tf(samples_1, samples_2, epsilon=0.01, num_iters=50, p=2))\n",
    "    w_21 = np.sqrt(tfw.sinkhorn_div_tf(samples_2, samples_1, epsilon=0.01, num_iters=50, p=2))\n",
    "    #print(w_12, w_21)\n",
    "    if abs(w_12 - w_21)/w_12 < 1e-3:\n",
    "        sym[i] = 1.0\n",
    "print('\\nNumber of failures = {}'.format(num_exps - int(sym.sum())))"
   ]
  },
  {
   "cell_type": "code",
   "execution_count": 26,
   "id": "latter-vacation",
   "metadata": {},
   "outputs": [
    {
     "name": "stdout",
     "output_type": "stream",
     "text": [
      "Working on iteration #99\n",
      "Number of failures = 0\n"
     ]
    }
   ],
   "source": [
    "# Identity\n",
    "\n",
    "num_exps = 100\n",
    "dim = 10\n",
    "num_samples = 200\n",
    "id_ = np.zeros(num_exps)\n",
    "cov_a = -10.\n",
    "cov_b = -cov_a\n",
    "for i in range(num_exps):\n",
    "    print('Working on iteration #{}'.format(i), end='\\r')\n",
    "    mean_1, cov_1, sampler_1 = generate_sampler(dim=dim, cov_a=cov_a, cov_b=cov_b)\n",
    "    samples_1 = sampler_1(num_samples)\n",
    "    w = np.sqrt(tfw.sinkhorn_loss(samples_1, samples_1, epsilon=0.01, num_iters=50, p=2))\n",
    "    if w == 0.:\n",
    "        id_[i] = 1.0\n",
    "print('\\nNumber of failures = {}'.format(num_exps - int(id_.sum())))"
   ]
  },
  {
   "cell_type": "code",
   "execution_count": null,
   "id": "bronze-faculty",
   "metadata": {},
   "outputs": [],
   "source": []
  }
 ],
 "metadata": {
  "kernelspec": {
   "display_name": "Python 3",
   "language": "python",
   "name": "python3"
  },
  "language_info": {
   "codemirror_mode": {
    "name": "ipython",
    "version": 3
   },
   "file_extension": ".py",
   "mimetype": "text/x-python",
   "name": "python",
   "nbconvert_exporter": "python",
   "pygments_lexer": "ipython3",
   "version": "3.8.3"
  }
 },
 "nbformat": 4,
 "nbformat_minor": 5
}
