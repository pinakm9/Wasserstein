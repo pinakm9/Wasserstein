{
 "cells": [
  {
   "cell_type": "code",
   "execution_count": 1,
   "id": "spiritual-grill",
   "metadata": {},
   "outputs": [
    {
     "name": "stdout",
     "output_type": "stream",
     "text": [
      "[pyKeOps]: Warning, no cuda detected. Switching to cpu only.\n"
     ]
    }
   ],
   "source": [
    "# add modules to Python's search path\n",
    "import os\n",
    "import sys\n",
    "module_path = os.path.abspath(os.path.join('..'))\n",
    "if module_path not in sys.path:\n",
    "    sys.path.append(module_path)\n",
    "\n",
    "\n",
    "import numpy as np\n",
    "import matplotlib.pyplot as plt\n",
    "from sklearn.neighbors import KernelDensity  # display as density curves\n",
    "\n",
    "import  torch\n",
    "from geomloss import SamplesLoss\n",
    "import tensorflow as tf\n",
    "from modules import tf_wasserstein as tfw"
   ]
  },
  {
   "cell_type": "code",
   "execution_count": 13,
   "id": "miniature-projection",
   "metadata": {},
   "outputs": [
    {
     "name": "stdout",
     "output_type": "stream",
     "text": [
      "samples from distribution #1:\n",
      "tensor([[ 0.8647,  0.4855,  0.8287],\n",
      "        [ 1.1513,  0.9692, -0.1944],\n",
      "        [ 0.9109, -0.7132,  0.3794]], dtype=torch.float64)\n",
      "samples from distribution #2:\n",
      "tensor([[ 0.5083, -0.9138,  0.3134],\n",
      "        [ 2.7979,  0.3998,  1.3880],\n",
      "        [ 1.2808, -0.9813,  0.0138]], dtype=torch.float64)\n"
     ]
    }
   ],
   "source": [
    "use_cuda = torch.cuda.is_available()\n",
    "# N.B.: We use float64 numbers to get nice limits when blur -> +infinity\n",
    "dtype    = torch.cuda.DoubleTensor if use_cuda else torch.DoubleTensor\n",
    "\n",
    "# make a convenient wrapper for producing samples in form of a tensor\n",
    "def torch_sampler(mean, cov, size):\n",
    "    samples = np.random.multivariate_normal(mean, cov, size)\n",
    "    return torch.from_numpy(samples)\n",
    "\n",
    "# set up parameters for our two test distributions\n",
    "dimension = 3\n",
    "mean_1 = np.zeros(dimension)\n",
    "mean_2 = mean_1 + 0.1 * np.ones(dimension)\n",
    "cov_1 = np.identity(dimension)\n",
    "cov_2 = cov_1\n",
    "\n",
    "# finally create the samplers our test distributions\n",
    "sampler_1 = lambda size: torch_sampler(mean_1, cov_1, size)\n",
    "sampler_2 = lambda size: torch_sampler(mean_2, cov_2, size)\n",
    "\n",
    "# test our samplers\n",
    "print(\"samples from distribution #1:\\n{}\".format(sampler_1(3)))\n",
    "print(\"samples from distribution #2:\\n{}\".format(sampler_2(3)))"
   ]
  },
  {
   "cell_type": "code",
   "execution_count": 14,
   "id": "wrong-thermal",
   "metadata": {},
   "outputs": [
    {
     "name": "stdout",
     "output_type": "stream",
     "text": [
      "0.3853263459986387\n"
     ]
    }
   ],
   "source": [
    "num_samples_1 = 500\n",
    "num_samples_2 = 500\n",
    "samples_1 = sampler_1(num_samples_1)\n",
    "samples_2 = sampler_2(num_samples_2)\n",
    "loss = SamplesLoss(\"sinkhorn\", p=2, blur=0.01, scaling=.99, backend=\"online\")\n",
    "print(np.sqrt(loss(samples_1, samples_2).item()))"
   ]
  },
  {
   "cell_type": "code",
   "execution_count": 40,
   "id": "square-script",
   "metadata": {},
   "outputs": [
    {
     "name": "stdout",
     "output_type": "stream",
     "text": [
      "samples from distribution #1:\n",
      "[[-0.10625428 -1.1483074   0.7022027 ]\n",
      " [-1.4416115  -1.8117061   0.5113038 ]\n",
      " [ 0.02931112  0.3988494  -1.2213601 ]]\n",
      "samples from distribution #2:\n",
      "[[ 0.30590484  0.23010959 -2.0424216 ]\n",
      " [-0.6116984  -0.9098585  -0.5215559 ]\n",
      " [ 0.64031196  1.8631465   0.38402075]]\n"
     ]
    }
   ],
   "source": [
    "# make a convenient wrapper for producing samples in form of a tensor\n",
    "def tf_sampler(mean, cov, size):\n",
    "    samples = np.random.multivariate_normal(mean, cov, size)\n",
    "    return tf.convert_to_tensor(samples, dtype=tf.float32)\n",
    "\n",
    "# set up parameters for our two test distributions\n",
    "dimension = 3\n",
    "mean_1 = np.zeros(dimension)\n",
    "mean_2 = mean_1 + 0.0 * np.ones(dimension)\n",
    "cov_1 = np.identity(dimension)\n",
    "cov_2 = cov_1\n",
    "\n",
    "# finally create the samplers our test distributions\n",
    "sampler_1 = lambda size: tf_sampler(mean_1, cov_1, size)\n",
    "sampler_2 = lambda size: tf_sampler(mean_2, cov_2, size)\n",
    "\n",
    "# test our samplers\n",
    "print(\"samples from distribution #1:\\n{}\".format(sampler_1(3)))\n",
    "print(\"samples from distribution #2:\\n{}\".format(sampler_2(3)))"
   ]
  },
  {
   "cell_type": "code",
   "execution_count": 59,
   "id": "golden-channels",
   "metadata": {},
   "outputs": [
    {
     "name": "stdout",
     "output_type": "stream",
     "text": [
      "tf.Tensor(3.3067206e-08, shape=(), dtype=float32)\n",
      "0.45141235\n"
     ]
    }
   ],
   "source": [
    "num_samples_1 = 500\n",
    "num_samples_2 = 500\n",
    "samples_1 = sampler_1(num_samples_1)\n",
    "samples_1 -= tf.reduce_mean(samples_1, axis=0)\n",
    "samples_2 = sampler_2(num_samples_2)\n",
    "samples_2 -= tf.reduce_mean(samples_2, axis=0)\n",
    "print(tf.sqrt(tf.reduce_sum((tf.reduce_mean(samples_1, axis=0) - tf.reduce_mean(samples_2, axis=0))**2)))\n",
    "loss = tfw.sinkhorn_loss(samples_1, samples_2, 0.01, num_samples_1, 2000, p=2)\n",
    "print(np.sqrt(loss))"
   ]
  },
  {
   "cell_type": "code",
   "execution_count": 44,
   "id": "higher-japanese",
   "metadata": {},
   "outputs": [
    {
     "data": {
      "text/plain": [
       "<tf.Tensor: shape=(), dtype=float32, numpy=0.056634635>"
      ]
     },
     "execution_count": 44,
     "metadata": {},
     "output_type": "execute_result"
    }
   ],
   "source": []
  },
  {
   "cell_type": "code",
   "execution_count": 54,
   "id": "extra-drinking",
   "metadata": {},
   "outputs": [],
   "source": [
    "samples_1 -= tf.reduce_mean(samples_1, axis=0)"
   ]
  },
  {
   "cell_type": "code",
   "execution_count": 58,
   "id": "interstate-pencil",
   "metadata": {},
   "outputs": [
    {
     "data": {
      "text/plain": [
       "<tf.Tensor: shape=(3,), dtype=float32, numpy=array([ 3.3378602e-09, -6.6757204e-09,  3.8146974e-09], dtype=float32)>"
      ]
     },
     "execution_count": 58,
     "metadata": {},
     "output_type": "execute_result"
    }
   ],
   "source": [
    "tf.reduce_mean(samples_1, axis=0)"
   ]
  },
  {
   "cell_type": "code",
   "execution_count": null,
   "id": "characteristic-first",
   "metadata": {},
   "outputs": [],
   "source": []
  }
 ],
 "metadata": {
  "kernelspec": {
   "display_name": "Python 3",
   "language": "python",
   "name": "python3"
  },
  "language_info": {
   "codemirror_mode": {
    "name": "ipython",
    "version": 3
   },
   "file_extension": ".py",
   "mimetype": "text/x-python",
   "name": "python",
   "nbconvert_exporter": "python",
   "pygments_lexer": "ipython3",
   "version": "3.8.8"
  }
 },
 "nbformat": 4,
 "nbformat_minor": 5
}
