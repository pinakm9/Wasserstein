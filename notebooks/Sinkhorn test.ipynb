{
 "cells": [
  {
   "cell_type": "code",
   "execution_count": 1,
   "id": "spiritual-grill",
   "metadata": {},
   "outputs": [
    {
     "name": "stdout",
     "output_type": "stream",
     "text": [
      "[pyKeOps]: Warning, no cuda detected. Switching to cpu only.\n"
     ]
    }
   ],
   "source": [
    "# add modules to Python's search path\n",
    "import os\n",
    "import sys\n",
    "module_path = os.path.abspath(os.path.join('..'))\n",
    "if module_path not in sys.path:\n",
    "    sys.path.append(module_path)\n",
    "\n",
    "\n",
    "import numpy as np\n",
    "import matplotlib.pyplot as plt\n",
    "from sklearn.neighbors import KernelDensity  # display as density curves\n",
    "\n",
    "import  torch\n",
    "from geomloss import SamplesLoss\n",
    "import tensorflow as tf\n",
    "from modules import wasserstein as tfw"
   ]
  },
  {
   "cell_type": "code",
   "execution_count": 2,
   "id": "miniature-projection",
   "metadata": {},
   "outputs": [
    {
     "name": "stdout",
     "output_type": "stream",
     "text": [
      "samples from distribution #1:\n",
      "tensor([[ 1.1202, -0.7755,  1.6073],\n",
      "        [ 0.1669, -1.5277,  2.3073],\n",
      "        [ 1.1081,  0.5839,  0.7476]], dtype=torch.float64)\n",
      "samples from distribution #2:\n",
      "tensor([[ 1.0109, -0.7399,  0.3451],\n",
      "        [ 1.7252, -0.4314, -0.3702],\n",
      "        [-0.8072, -0.9464, -1.2067]], dtype=torch.float64)\n"
     ]
    }
   ],
   "source": [
    "use_cuda = torch.cuda.is_available()\n",
    "# N.B.: We use float64 numbers to get nice limits when blur -> +infinity\n",
    "dtype    = torch.cuda.DoubleTensor if use_cuda else torch.DoubleTensor\n",
    "\n",
    "# make a convenient wrapper for producing samples in form of a tensor\n",
    "def torch_sampler(mean, cov, size):\n",
    "    samples = np.random.multivariate_normal(mean, cov, size)\n",
    "    return torch.from_numpy(samples)\n",
    "\n",
    "# set up parameters for our two test distributions\n",
    "dimension = 3\n",
    "mean_1 = np.zeros(dimension)\n",
    "mean_2 = mean_1 + 0.1 * np.ones(dimension)\n",
    "cov_1 = np.identity(dimension)\n",
    "cov_2 = cov_1\n",
    "\n",
    "# finally create the samplers our test distributions\n",
    "sampler_1 = lambda size: torch_sampler(mean_1, cov_1, size)\n",
    "sampler_2 = lambda size: torch_sampler(mean_2, cov_2, size)\n",
    "\n",
    "# test our samplers\n",
    "print(\"samples from distribution #1:\\n{}\".format(sampler_1(3)))\n",
    "print(\"samples from distribution #2:\\n{}\".format(sampler_2(3)))"
   ]
  },
  {
   "cell_type": "code",
   "execution_count": 3,
   "id": "wrong-thermal",
   "metadata": {},
   "outputs": [
    {
     "name": "stdout",
     "output_type": "stream",
     "text": [
      "0.3680344296264513\n"
     ]
    }
   ],
   "source": [
    "num_samples_1 = 500\n",
    "num_samples_2 = 500\n",
    "samples_1 = sampler_1(num_samples_1)\n",
    "samples_2 = sampler_2(num_samples_2)\n",
    "loss = SamplesLoss(\"sinkhorn\", p=2, blur=0.01, scaling=.99, backend=\"online\")\n",
    "print(np.sqrt(loss(samples_1, samples_2).item()))"
   ]
  },
  {
   "cell_type": "code",
   "execution_count": 4,
   "id": "square-script",
   "metadata": {},
   "outputs": [
    {
     "name": "stdout",
     "output_type": "stream",
     "text": [
      "samples from distribution #1:\n",
      "[[-1.2604666   2.025482   -2.666641  ]\n",
      " [-0.8957441   0.5420875   1.5477074 ]\n",
      " [ 0.829818   -0.05294777  0.25876302]]\n",
      "samples from distribution #2:\n",
      "[[-1.1012024   1.8941648   1.5154725 ]\n",
      " [ 0.47532982  0.8626874  -0.32130912]\n",
      " [ 0.08357774 -0.28164318  1.8414799 ]]\n"
     ]
    }
   ],
   "source": [
    "# make a convenient wrapper for producing samples in form of a tensor\n",
    "def tf_sampler(mean, cov, size):\n",
    "    samples = np.random.multivariate_normal(mean, cov, size)\n",
    "    return tf.convert_to_tensor(samples, dtype=tf.float32)\n",
    "\n",
    "# set up parameters for our two test distributions\n",
    "dimension = 3\n",
    "mean_1 = np.zeros(dimension)\n",
    "mean_2 = mean_1 + 0.0 * np.ones(dimension)\n",
    "cov_1 = np.identity(dimension)\n",
    "cov_2 = cov_1\n",
    "\n",
    "# finally create the samplers our test distributions\n",
    "sampler_1 = lambda size: tf_sampler(mean_1, cov_1, size)\n",
    "sampler_2 = lambda size: tf_sampler(mean_2, cov_2, size)\n",
    "\n",
    "# test our samplers\n",
    "print(\"samples from distribution #1:\\n{}\".format(sampler_1(3)))\n",
    "print(\"samples from distribution #2:\\n{}\".format(sampler_2(3)))"
   ]
  },
  {
   "cell_type": "code",
   "execution_count": 9,
   "id": "golden-channels",
   "metadata": {},
   "outputs": [
    {
     "name": "stdout",
     "output_type": "stream",
     "text": [
      "tf.Tensor(1.5359042e-08, shape=(), dtype=float32)\n",
      "0.7816565\n"
     ]
    }
   ],
   "source": [
    "num_samples_1 = 50\n",
    "num_samples_2 = 200\n",
    "samples_1 = sampler_1(num_samples_1)\n",
    "samples_1 -= tf.reduce_mean(samples_1, axis=0)\n",
    "samples_2 = sampler_2(num_samples_2)\n",
    "samples_2 -= tf.reduce_mean(samples_2, axis=0)\n",
    "print(tf.sqrt(tf.reduce_sum((tf.reduce_mean(samples_1, axis=0) - tf.reduce_mean(samples_2, axis=0))**2)))\n",
    "loss = tfw.sinkhorn_loss(samples_1, samples_2, epsilon=0.01, niter=2000, p=2)\n",
    "print(np.sqrt(loss))"
   ]
  },
  {
   "cell_type": "code",
   "execution_count": null,
   "id": "higher-japanese",
   "metadata": {},
   "outputs": [],
   "source": []
  },
  {
   "cell_type": "code",
   "execution_count": 6,
   "id": "extra-drinking",
   "metadata": {},
   "outputs": [],
   "source": [
    "samples_1 -= tf.reduce_mean(samples_1, axis=0)"
   ]
  },
  {
   "cell_type": "code",
   "execution_count": 7,
   "id": "interstate-pencil",
   "metadata": {},
   "outputs": [
    {
     "data": {
      "text/plain": [
       "<tf.Tensor: shape=(3,), dtype=float32, numpy=array([ 3.8146974e-09, -1.0490417e-08,  0.0000000e+00], dtype=float32)>"
      ]
     },
     "execution_count": 7,
     "metadata": {},
     "output_type": "execute_result"
    }
   ],
   "source": [
    "tf.reduce_mean(samples_1, axis=0)"
   ]
  },
  {
   "cell_type": "code",
   "execution_count": null,
   "id": "characteristic-first",
   "metadata": {},
   "outputs": [],
   "source": []
  }
 ],
 "metadata": {
  "kernelspec": {
   "display_name": "Python 3",
   "language": "python",
   "name": "python3"
  },
  "language_info": {
   "codemirror_mode": {
    "name": "ipython",
    "version": 3
   },
   "file_extension": ".py",
   "mimetype": "text/x-python",
   "name": "python",
   "nbconvert_exporter": "python",
   "pygments_lexer": "ipython3",
   "version": "3.8.8"
  }
 },
 "nbformat": 4,
 "nbformat_minor": 5
}
